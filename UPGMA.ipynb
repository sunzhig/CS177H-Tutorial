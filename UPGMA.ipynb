{
 "cells": [
  {
   "cell_type": "markdown",
   "id": "monthly-audio",
   "metadata": {},
   "source": [
    "![jupyter](./1.png)"
   ]
  },
  {
   "cell_type": "markdown",
   "id": "wicked-shuttle",
   "metadata": {},
   "source": [
    "![jupyter](./2.png)"
   ]
  },
  {
   "cell_type": "markdown",
   "id": "classical-routine",
   "metadata": {},
   "source": [
    "![jupyter](./3.png)"
   ]
  },
  {
   "cell_type": "markdown",
   "id": "mental-vertex",
   "metadata": {},
   "source": [
    "![jupyter](./4.png)"
   ]
  },
  {
   "cell_type": "markdown",
   "id": "informed-track",
   "metadata": {},
   "source": [
    "![jupyter](./5.png)"
   ]
  }
 ],
 "metadata": {
  "kernelspec": {
   "display_name": "Python 3",
   "language": "python",
   "name": "python3"
  },
  "language_info": {
   "codemirror_mode": {
    "name": "ipython",
    "version": 3
   },
   "file_extension": ".py",
   "mimetype": "text/x-python",
   "name": "python",
   "nbconvert_exporter": "python",
   "pygments_lexer": "ipython3",
   "version": "3.8.6"
  }
 },
 "nbformat": 4,
 "nbformat_minor": 5
}

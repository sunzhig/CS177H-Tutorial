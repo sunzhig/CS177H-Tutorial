{
 "cells": [
  {
   "cell_type": "markdown",
   "id": "missing-linux",
   "metadata": {
    "tags": []
   },
   "source": [
    "# CS177H Tutorial 1 \n",
    "#### 2021.3.23"
   ]
  },
  {
   "cell_type": "markdown",
   "id": "engaging-sarah",
   "metadata": {
    "tags": []
   },
   "source": [
    "## 1.conda"
   ]
  },
  {
   "cell_type": "markdown",
   "id": "cubic-george",
   "metadata": {},
   "source": [
    "### 1.1 Install conda"
   ]
  },
  {
   "cell_type": "code",
   "execution_count": null,
   "id": "advance-squad",
   "metadata": {},
   "outputs": [],
   "source": [
    "#Linux\n",
    "wget -c https://repo.anaconda.com/miniconda/Miniconda3-latest-Linux-x86_64.sh\n",
    "#MacOS\n",
    "curl -O https://repo.anaconda.com/miniconda/Miniconda3-latest-MacOSX-x86_64.sh\n",
    "    \n",
    "chmod 777 Miniconda3-latest-Linux-x86_64.sh\n",
    "bash Miniconda3-latest-Linux-x86_64.sh"
   ]
  },
  {
   "cell_type": "markdown",
   "id": "shaped-insert",
   "metadata": {},
   "source": [
    "### 1.2 Run Conda"
   ]
  },
  {
   "cell_type": "code",
   "execution_count": 4,
   "id": "organic-increase",
   "metadata": {},
   "outputs": [
    {
     "name": "stdout",
     "output_type": "stream",
     "text": [
      "\n",
      "CommandNotFoundError: Your shell has not been properly configured to use 'conda activate'.\n",
      "To initialize your shell, run\n",
      "\n",
      "    $ conda init <SHELL_NAME>\n",
      "\n",
      "Currently supported shells are:\n",
      "  - bash\n",
      "  - fish\n",
      "  - tcsh\n",
      "  - xonsh\n",
      "  - zsh\n",
      "  - powershell\n",
      "\n",
      "See 'conda init --help' for more information and options.\n",
      "\n",
      "IMPORTANT: You may need to close and restart your shell after running 'conda init'.\n",
      "\n",
      "\n",
      "\n",
      "Note: you may need to restart the kernel to use updated packages.\n"
     ]
    }
   ],
   "source": [
    "conda activate"
   ]
  },
  {
   "cell_type": "code",
   "execution_count": null,
   "id": "according-netherlands",
   "metadata": {},
   "outputs": [],
   "source": [
    "conda init bash"
   ]
  },
  {
   "cell_type": "markdown",
   "id": "expensive-genius",
   "metadata": {},
   "source": [
    "### 1.3 Envirment"
   ]
  },
  {
   "cell_type": "code",
   "execution_count": null,
   "id": "biblical-carol",
   "metadata": {},
   "outputs": [],
   "source": [
    "conda env list"
   ]
  },
  {
   "cell_type": "code",
   "execution_count": null,
   "id": "certified-shelter",
   "metadata": {},
   "outputs": [],
   "source": [
    "conda create -n test python=3\n",
    "conda activate test\n",
    "conda deactivate\n",
    "conda remove -n test --all"
   ]
  },
  {
   "cell_type": "code",
   "execution_count": null,
   "id": "noticed-synthetic",
   "metadata": {},
   "outputs": [],
   "source": [
    "conda create -n test2 --clone test\n",
    "conda remove -n test --all"
   ]
  },
  {
   "cell_type": "markdown",
   "id": "therapeutic-vitamin",
   "metadata": {},
   "source": [
    "### 1.4 Add channels"
   ]
  },
  {
   "cell_type": "markdown",
   "id": "centered-lucas",
   "metadata": {},
   "source": [
    "#### Using Tsinghua mirrors to speed up"
   ]
  },
  {
   "cell_type": "code",
   "execution_count": null,
   "id": "delayed-fraction",
   "metadata": {},
   "outputs": [],
   "source": [
    "conda config --add channels https://mirrors.tuna.tsinghua.edu.cn/anaconda/pkgs/free/"
   ]
  },
  {
   "cell_type": "code",
   "execution_count": null,
   "id": "excess-looking",
   "metadata": {},
   "outputs": [],
   "source": [
    "conda config --add channels https://mirrors.tuna.tsinghua.edu.cn/anaconda/pkgs/main/"
   ]
  },
  {
   "cell_type": "code",
   "execution_count": null,
   "id": "foreign-preservation",
   "metadata": {},
   "outputs": [],
   "source": [
    "conda config --add channels https://mirrors.tuna.tsinghua.edu.cn/anaconda/cloud/conda-forge/"
   ]
  },
  {
   "cell_type": "code",
   "execution_count": null,
   "id": "bored-richards",
   "metadata": {},
   "outputs": [],
   "source": [
    "conda config --add channels https://mirrors.tuna.tsinghua.edu.cn/anaconda/cloud/bioconda/"
   ]
  },
  {
   "cell_type": "markdown",
   "id": "unlimited-hungarian",
   "metadata": {},
   "source": [
    "#### Check channelsconda config --get channels"
   ]
  },
  {
   "cell_type": "code",
   "execution_count": null,
   "id": "color-concern",
   "metadata": {},
   "outputs": [],
   "source": [
    "conda config --get channels"
   ]
  },
  {
   "cell_type": "markdown",
   "id": "bacterial-shadow",
   "metadata": {},
   "source": [
    "### 1.5 Install Packages "
   ]
  },
  {
   "cell_type": "code",
   "execution_count": null,
   "id": "opened-median",
   "metadata": {},
   "outputs": [],
   "source": [
    "conda install jupyterlab\n",
    "which jupyter-lab\n",
    "conda update jupyterlab\n",
    "conda remove jupyterlab"
   ]
  },
  {
   "cell_type": "code",
   "execution_count": null,
   "id": "coupled-return",
   "metadata": {},
   "outputs": [],
   "source": [
    "conda list"
   ]
  },
  {
   "cell_type": "markdown",
   "id": "respected-assessment",
   "metadata": {},
   "source": [
    "## 2. Jupyter"
   ]
  },
  {
   "cell_type": "markdown",
   "id": "supreme-tuner",
   "metadata": {},
   "source": [
    "### Components"
   ]
  },
  {
   "cell_type": "markdown",
   "id": "gross-thanks",
   "metadata": {},
   "source": [
    "The Jupyter Notebook combines three components:\n",
    "\n",
    "* **The notebook web application**: An interactive web application for writing and running code interactively and authoring notebook documents.\n",
    "* **Kernels**: Separate processes started by the notebook web application that runs users' code in a given language and returns output back to the notebook web application. The kernel also handles things like computations for interactive widgets, tab completion and introspection. \n",
    "* **Notebook documents**: Self-contained documents that contain a representation of all content visible in the notebook web application, including inputs and outputs of the computations, narrative\n",
    "text, equations, images, and rich media representations of objects. Each notebook document has its own kernel."
   ]
  },
  {
   "cell_type": "markdown",
   "id": "adult-member",
   "metadata": {},
   "source": [
    "### Notebook web application"
   ]
  },
  {
   "cell_type": "markdown",
   "id": "under-glance",
   "metadata": {},
   "source": [
    "The notebook web application enables users to:\n",
    "\n",
    "* **Edit code in the browser**, with automatic syntax highlighting, indentation, and tab completion/introspection.\n",
    "* **Run code from the browser**, with the results of computations attached to the code which generated them.\n",
    "* See the results of computations with **rich media representations**, such as HTML, LaTeX, PNG, SVG, PDF, etc.\n",
    "* Create and use **interactive JavaScript widgets**, which bind interactive user interface controls and visualizations to reactive kernel side computations.\n",
    "* Author **narrative text** using the [Markdown](https://daringfireball.net/projects/markdown/) markup language.\n",
    "* Include mathematical equations using **LaTeX syntax in Markdown**, which are rendered in-browser by [MathJax](https://www.mathjax.org/)."
   ]
  },
  {
   "cell_type": "markdown",
   "id": "confident-induction",
   "metadata": {},
   "source": [
    "### Kernels"
   ]
  },
  {
   "cell_type": "markdown",
   "id": "personal-sponsorship",
   "metadata": {},
   "source": [
    "Through Jupyter's kernel and messaging architecture, the Notebook allows code to be run in a range of different programming languages.  For each notebook document that a user opens, the web application starts a kernel that runs the code for that notebook. Each kernel is capable of running code in a single programming language and there are kernels available in the following languages:\n",
    "\n",
    "* Python(https://github.com/ipython/ipython)\n",
    "* Julia (https://github.com/JuliaLang/IJulia.jl)\n",
    "* R (https://github.com/IRkernel/IRkernel)\n",
    "* Ruby (https://github.com/minrk/iruby)\n",
    "* Haskell (https://github.com/gibiansky/IHaskell)\n",
    "* Scala (https://github.com/Bridgewater/scala-notebook)\n",
    "* node.js (https://gist.github.com/Carreau/4279371)\n",
    "* Go (https://github.com/takluyver/igo)\n",
    "\n",
    "The default kernel runs Python code. The notebook provides a simple way for users to pick which of these kernels is used for a given notebook. \n",
    "\n",
    "Each of these kernels communicate with the notebook web application and web browser using a JSON over ZeroMQ/WebSockets message protocol that is described [here](https://jupyter-client.readthedocs.io/en/latest/messaging.html#messaging). Most users don't need to know about these details, but it helps to understand that \"kernels run code.\""
   ]
  },
  {
   "cell_type": "markdown",
   "id": "rolled-tulsa",
   "metadata": {},
   "source": [
    "### Notebook documents"
   ]
  },
  {
   "cell_type": "markdown",
   "id": "judicial-record",
   "metadata": {},
   "source": [
    "When you run the notebook web application on your computer, notebook documents are just **files on your local filesystem with a** `.ipynb` **extension**. This allows you to use familiar workflows for organizing your notebooks into folders and sharing them with others."
   ]
  },
  {
   "cell_type": "markdown",
   "id": "tracked-relevance",
   "metadata": {},
   "source": [
    "Notebooks consist of a **linear sequence of cells**. There are three basic cell types:\n",
    "\n",
    "* **Code cells:** Input and output of live code that is run in the kernel\n",
    "* **Markdown cells:** Narrative text with embedded LaTeX equations\n",
    "* **Raw cells:** Unformatted a that is included, without modification, when notebooks are converted to different formats using nbconvert\n",
    "\n",
    "Internally, notebook documents are [JSON](https://en.wikipedia.org/wiki/JSON) **data** with **binary values** [base64](https://en.wikipedia.org/wiki/Base64) encoded. This allows them to be **read and manipulated programmatically** by any programming language. Because JSON is a text format, notebook documents are version control friendly.\n",
    "\n",
    "**Notebooks can be exported** to different static formats including HTML, reStructeredText, LaTeX, PDF, and slide shows ([reveal.js](https://revealjs.com)) using Jupyter's `nbconvert` utility.\n",
    "\n",
    "Furthermore, any notebook document available from a **public URL or on GitHub can be shared** via [nbviewer](https://nbviewer.jupyter.org). This service loads the notebook document from the URL and renders it as a static web page. The resulting web page may thus be shared with others **without their needing to install the Jupyter Notebook**."
   ]
  },
  {
   "cell_type": "markdown",
   "id": "visible-movement",
   "metadata": {},
   "source": [
    "### Keyboard Navigation"
   ]
  },
  {
   "cell_type": "markdown",
   "id": "distinct-lawsuit",
   "metadata": {},
   "source": [
    "The modal user interface of the Jupyter Notebook has been optimized for efficient keyboard usage. This is made possible by having two different sets of keyboard shortcuts: one set that is active in edit mode and another in command mode.\n",
    "\n",
    "The most important keyboard shortcuts are `Enter`, which enters edit mode, and `Esc`, which enters command mode.\n",
    "\n",
    "In edit mode, most of the keyboard is dedicated to typing into the cell's editor. Thus, in edit mode there are relatively few shortcuts.  In command mode, the entire keyboard is available for shortcuts, so there are many more.  The `Help`->`Keyboard Shortcuts` dialog lists the available shortcuts."
   ]
  },
  {
   "cell_type": "markdown",
   "id": "stylish-mobile",
   "metadata": {},
   "source": [
    "### We recommend learning the command mode shortcuts in the following rough order:\n",
    "\n",
    "1. Basic navigation: `enter`, `shift-enter`, `up/k`, `down/j`\n",
    "2. Saving the notebook: `s`\n",
    "2. Change Cell types: `y`, `m`\n",
    "3. Cell creation: `a`, `b`\n",
    "4. Cell editing: `x`, `c`, `v`, `d`, `z`\n",
    "5. Kernel operations: `i`, `0` (press twice)"
   ]
  },
  {
   "cell_type": "markdown",
   "id": "earlier-voltage",
   "metadata": {},
   "source": [
    "## 3.Biopython  \n",
    "The Biopython Project is an international association of developers of freely available Python tools for computational molecular biology. [Documentation ](https://biopython-cn.readthedocs.io/zh_CN/latest/cn/chr01.html#biopython)"
   ]
  },
  {
   "cell_type": "code",
   "execution_count": null,
   "id": "celtic-princess",
   "metadata": {},
   "outputs": [],
   "source": [
    "conda install biopython"
   ]
  },
  {
   "cell_type": "code",
   "execution_count": 4,
   "id": "corresponding-dance",
   "metadata": {},
   "outputs": [],
   "source": [
    "import Bio"
   ]
  },
  {
   "cell_type": "markdown",
   "id": "relevant-dream",
   "metadata": {},
   "source": [
    "#### 3.1 Seq Operation"
   ]
  },
  {
   "cell_type": "code",
   "execution_count": null,
   "id": "previous-tuning",
   "metadata": {},
   "outputs": [],
   "source": [
    "from Bio.Seq import Seq"
   ]
  },
  {
   "cell_type": "code",
   "execution_count": null,
   "id": "raised-development",
   "metadata": {},
   "outputs": [],
   "source": [
    "# create a sequence object\n",
    "my_seq = Seq(\"CATGTAGACTAG\")\n",
    "mrna = my_seq.reverse_complement().transcribe()\n",
    "dna = mrna.back_transcribe()\n",
    "# print out some details about it\n",
    "print(\"seq %s is %i bases long\" % (my_seq, len(my_seq)))\n",
    "print(\"reverse complement is %s\" % my_seq.reverse_complement())\n",
    "print(\"transcribe is %s\" % mrna)\n",
    "print(\"back transcribe is %s\" % dna)\n",
    "print(\"protein translation is %s\" % my_seq.translate())"
   ]
  },
  {
   "cell_type": "markdown",
   "id": "auburn-sphere",
   "metadata": {},
   "source": [
    "#### 3.2 Entrez"
   ]
  },
  {
   "cell_type": "code",
   "execution_count": null,
   "id": "lesser-easter",
   "metadata": {},
   "outputs": [],
   "source": [
    "from Bio import Entrez\n",
    "Entrez.email = \"sunzhg@shanghaitech.edu.cn\""
   ]
  },
  {
   "cell_type": "code",
   "execution_count": null,
   "id": "thermal-maximum",
   "metadata": {},
   "outputs": [],
   "source": [
    "handle = Entrez.einfo()\n",
    "record = Entrez.read(handle)\n",
    "record['DbList']"
   ]
  },
  {
   "cell_type": "markdown",
   "id": "irish-contents",
   "metadata": {},
   "source": [
    "#### 3.3 Supervised learning"
   ]
  },
  {
   "cell_type": "code",
   "execution_count": 14,
   "id": "extreme-charge",
   "metadata": {},
   "outputs": [],
   "source": [
    "from Bio import LogisticRegression\n",
    "import random"
   ]
  },
  {
   "cell_type": "code",
   "execution_count": 27,
   "id": "identified-liberty",
   "metadata": {},
   "outputs": [],
   "source": [
    "x_t=[[random.randint(-20,20),random.randint(-20,20)] for i in range(1,100)]\n",
    "y_t=[1 if(i[0] > 0 and i[1] > 0) else 0 for i in x_t]"
   ]
  },
  {
   "cell_type": "code",
   "execution_count": 28,
   "id": "dominican-printing",
   "metadata": {},
   "outputs": [],
   "source": [
    "model = LogisticRegression.train(x_t, y_t)"
   ]
  },
  {
   "cell_type": "code",
   "execution_count": null,
   "id": "honest-coach",
   "metadata": {},
   "outputs": [],
   "source": [
    "x=[13,13]\n",
    "print(LogisticRegression.classify(model, x))\n",
    "print(LogisticRegression.calculate(model, x))"
   ]
  },
  {
   "cell_type": "code",
   "execution_count": null,
   "id": "partial-carter",
   "metadata": {},
   "outputs": [],
   "source": [
    "correct=0\n",
    "for i in range(len(y_t)):\n",
    "    if(y_t[i]==LogisticRegression.classify(model, x_t[i])):\n",
    "        correct+=1\n",
    "    else:\n",
    "        print(\"Input:\",x_t[i],\"True:\", y_t[i], \"Predicted:\", LogisticRegression.classify(model, x_t[i]))\n",
    "print(correct)"
   ]
  }
 ],
 "metadata": {
  "kernelspec": {
   "display_name": "Python [conda env:CS150] *",
   "language": "python",
   "name": "conda-env-CS150-py"
  },
  "language_info": {
   "codemirror_mode": {
    "name": "ipython",
    "version": 3
   },
   "file_extension": ".py",
   "mimetype": "text/x-python",
   "name": "python",
   "nbconvert_exporter": "python",
   "pygments_lexer": "ipython3",
   "version": "3.8.6"
  }
 },
 "nbformat": 4,
 "nbformat_minor": 5
}
